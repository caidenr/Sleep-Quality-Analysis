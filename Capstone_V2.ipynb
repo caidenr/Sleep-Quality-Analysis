{
 "cells": [
  {
   "cell_type": "code",
   "execution_count": 1,
   "metadata": {},
   "outputs": [],
   "source": [
    "import pandas as pd\n",
    "from matplotlib import pyplot as plt\n",
    "%matplotlib inline"
   ]
  },
  {
   "cell_type": "code",
   "execution_count": 2,
   "metadata": {},
   "outputs": [],
   "source": [
    "df = pd.read_csv(\"SleepStudyData.csv\")\n",
    "\n",
    "df.insert(0, \"Tired\", df.pop(\"Tired\"))\n",
    "\n",
    "df[\"Enough\"] = df[\"Enough\"].map({\"Yes\":1, \"No\":0})\n",
    "df[\"PhoneReach\"] = df[\"PhoneReach\"].map({\"Yes\":1, \"No\":0})\n",
    "df[\"PhoneTime\"] = df[\"PhoneTime\"].map({\"Yes\":1, \"No\":0})\n",
    "df[\"Breakfast\"] = df[\"Breakfast\"].map({\"Yes\":1, \"No\":0})\n",
    "\n",
    "df = df.dropna()"
   ]
  },
  {
   "cell_type": "code",
   "execution_count": null,
   "metadata": {},
   "outputs": [],
   "source": [
    "import plotly.express as px\n",
    "from jupyter_dash import JupyterDash\n",
    "from dash import Input, Output, html, dcc\n",
    "# from dash.dependencies import Input, Output, html, dcc\n",
    "# import dash_core_components as dcc\n",
    "# import dash_html_components as html\n",
    "import dash_bootstrap_components as dbc\n",
    "\n",
    "\n",
    "app = JupyterDash(__name__, external_stylesheets=[dbc.themes.LUX])\n",
    "mytitle = dcc.Markdown(children='')\n",
    "barplot = dcc.Graph(figure={})\n",
    "dropdown = dcc.Dropdown(options=df.drop(\"Tired\", axis=1).columns.values, \n",
    "                        value='Enough',\n",
    "                        clearable =False)\n",
    "\n",
    "app.layout = dbc.Container([\n",
    "    html.H4(\"Graph\"),\n",
    "    barplot,\n",
    "    dropdown,\n",
    "])\n",
    "\n",
    "# Callback allows components to interact\n",
    "@app.callback(\n",
    "    Output(barplot, 'figure'),\n",
    "    Input(dropdown, 'value')\n",
    ")\n",
    "def update_graph(column_name):  # function arguments come from the component property of the Input\n",
    "    \n",
    "    fig = px.bar(df, x=column_name, y=\"Tired\", barmode=\"group\")\n",
    "    return fig\n",
    "\n",
    "# Run app\n",
    "\n",
    "if __name__ == '__main__':\n",
    "    #app.run_server(mode='inline', debug=False, use_reloader=False) \n",
    "    app.run_server(mode='inline', debug=True) \n"
   ]
  },
  {
   "cell_type": "code",
   "execution_count": null,
   "metadata": {},
   "outputs": [],
   "source": [
    "import seaborn as sns\n",
    "\n",
    "sns.jointplot(x=\"Hours\", y=\"Tired\", data=df, kind=\"hex\")\n",
    "sns.jointplot(x=\"Hours\", y=\"Tired\", data=df, kind=\"kde\")\n",
    "sns.jointplot(x=\"Hours\", y=\"Tired\", data=df, kind=\"reg\")"
   ]
  },
  {
   "cell_type": "code",
   "execution_count": null,
   "metadata": {},
   "outputs": [],
   "source": [
    "import qgrid\n",
    "\n",
    "qgrid.show_grid(df, grid_options={\"editable\": False, \"enableColumnReorder\":True, \"forceFitColumns\":False})\n"
   ]
  },
  {
   "cell_type": "code",
   "execution_count": 27,
   "metadata": {},
   "outputs": [],
   "source": [
    "from sklearn.model_selection import train_test_split\n",
    "df[\"Tired\"] = df[\"Tired\"].map({1:0, 2:0, 3:1, 4:1, 5:1})\n",
    "\n",
    "X = df.drop(\"Tired\", axis = 1)\n",
    "y = df[\"Tired\"]\n",
    "\n",
    "X_train, X_test, y_train, y_test = train_test_split(X, y, test_size=.2)"
   ]
  },
  {
   "cell_type": "code",
   "execution_count": 28,
   "metadata": {},
   "outputs": [
    {
     "data": {
      "text/plain": [
       "LogisticRegression(max_iter=1000)"
      ]
     },
     "execution_count": 28,
     "metadata": {},
     "output_type": "execute_result"
    }
   ],
   "source": [
    "from sklearn.linear_model import LogisticRegression\n",
    "import numpy as np\n",
    "\n",
    "np.random.seed(42)\n",
    "\n",
    "model = LogisticRegression(max_iter=1000)\n",
    "model.fit(X_train, y_train)"
   ]
  },
  {
   "cell_type": "code",
   "execution_count": 29,
   "metadata": {
    "scrolled": true
   },
   "outputs": [
    {
     "data": {
      "text/plain": [
       "0.6666666666666666"
      ]
     },
     "execution_count": 29,
     "metadata": {},
     "output_type": "execute_result"
    }
   ],
   "source": [
    "model.score(X_test,y_test)"
   ]
  },
  {
   "cell_type": "code",
   "execution_count": 30,
   "metadata": {
    "scrolled": true
   },
   "outputs": [
    {
     "name": "stdout",
     "output_type": "stream",
     "text": [
      "Optimization terminated successfully.\n",
      "         Current function value: 0.530076\n",
      "         Iterations 6\n",
      "                           Logit Regression Results                           \n",
      "==============================================================================\n",
      "Dep. Variable:                  Tired   No. Observations:                  102\n",
      "Model:                          Logit   Df Residuals:                       97\n",
      "Method:                           MLE   Df Model:                            4\n",
      "Date:                Sat, 21 May 2022   Pseudo R-squ.:                  0.1250\n",
      "Time:                        08:57:03   Log-Likelihood:                -54.068\n",
      "converged:                       True   LL-Null:                       -61.791\n",
      "Covariance Type:            nonrobust   LLR p-value:                  0.003858\n",
      "==============================================================================\n",
      "                 coef    std err          z      P>|z|      [0.025      0.975]\n",
      "------------------------------------------------------------------------------\n",
      "Enough        -1.7883      0.524     -3.414      0.001      -2.815      -0.762\n",
      "Hours          0.2462      0.111      2.223      0.026       0.029       0.463\n",
      "PhoneReach     0.1778      0.504      0.353      0.724      -0.810       1.165\n",
      "PhoneTime      0.4060      0.581      0.699      0.485      -0.733       1.545\n",
      "Breakfast     -0.7760      0.532     -1.458      0.145      -1.819       0.267\n",
      "==============================================================================\n"
     ]
    }
   ],
   "source": [
    "from statsmodels.discrete.discrete_model import Logit\n",
    "print(Logit(y, X).fit().summary())"
   ]
  },
  {
   "cell_type": "markdown",
   "metadata": {},
   "source": [
    "It appears that of the five factors that affect sleep, "
   ]
  }
 ],
 "metadata": {
  "kernelspec": {
   "display_name": "capstone",
   "language": "python",
   "name": "capstone"
  },
  "language_info": {
   "codemirror_mode": {
    "name": "ipython",
    "version": 3
   },
   "file_extension": ".py",
   "mimetype": "text/x-python",
   "name": "python",
   "nbconvert_exporter": "python",
   "pygments_lexer": "ipython3",
   "version": "3.9.12"
  }
 },
 "nbformat": 4,
 "nbformat_minor": 4
}
